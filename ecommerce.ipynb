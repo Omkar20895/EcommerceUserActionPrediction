{
 "cells": [
  {
   "cell_type": "code",
   "execution_count": 47,
   "metadata": {},
   "outputs": [
    {
     "name": "stderr",
     "output_type": "stream",
     "text": [
      "/anaconda3/lib/python3.7/site-packages/pandas/core/generic.py:5096: SettingWithCopyWarning: \n",
      "A value is trying to be set on a copy of a slice from a DataFrame.\n",
      "Try using .loc[row_indexer,col_indexer] = value instead\n",
      "\n",
      "See the caveats in the documentation: http://pandas.pydata.org/pandas-docs/stable/indexing.html#indexing-view-versus-copy\n",
      "  self[name] = value\n"
     ]
    },
    {
     "name": "stdout",
     "output_type": "stream",
     "text": [
      "0.95\n"
     ]
    },
    {
     "name": "stderr",
     "output_type": "stream",
     "text": [
      "/anaconda3/lib/python3.7/site-packages/sklearn/linear_model/logistic.py:433: FutureWarning: Default solver will be changed to 'lbfgs' in 0.22. Specify a solver to silence this warning.\n",
      "  FutureWarning)\n"
     ]
    }
   ],
   "source": [
    "import numpy as np\n",
    "import pandas as pd\n",
    "import matplotlib.pyplot as plt\n",
    "from sklearn.utils import shuffle\n",
    "from sklearn.model_selection import train_test_split\n",
    "from sklearn.linear_model import LogisticRegression\n",
    "\n",
    "def get_binary_data(csv_file):\n",
    "    data = pd.read_csv(csv_file)\n",
    "    data = data.loc[data[\"user_action\"].isin([1,0]), :]\n",
    "    \n",
    "    features = data[data.columns[:-1]]\n",
    "    predictor = data[data.columns[-1]]\n",
    "    \n",
    "    features.n_products_viewed = (features.n_products_viewed - features.n_products_viewed.mean())/features.n_products_viewed.std()\n",
    "    features.visit_duration = (features.visit_duration - features.visit_duration.mean())/features.visit_duration.std()\n",
    "\n",
    "    N, D = features.shape\n",
    "    features\n",
    "    \n",
    "    features[\"zeros1\"] = np.zeros(N)\n",
    "    features[\"zeros2\"] = np.zeros(N)\n",
    "    features[\"zeros3\"] = np.zeros(N)\n",
    "    \n",
    "    for n in range(N):\n",
    "        t = int(features.iloc[n, D-1])\n",
    "        features.iloc[n, t+D-1] = 1\n",
    "    \n",
    "    features = features.drop(\"time_of_day\", axis = 1)\n",
    "    return features, predictor\n",
    "    \n",
    "X, Y = get_binary_data(\"./ecommerce_data.csv\")\n",
    "\n",
    "Xtrain, Xtest, Ytrain, Ytest = train_test_split(X, Y, test_size=0.1)\n",
    "\n",
    "## Scikitlearn results\n",
    "model = LogisticRegression()\n",
    "model.fit(Xtrain, Ytrain)\n",
    "\n",
    "predicted = model.predict(Xtest)\n",
    "\n",
    "def classification_rate(actual, predicted):\n",
    "    return np.mean(actual==predicted)\n",
    "\n",
    "print(classification_rate(Ytest, predicted))"
   ]
  },
  {
   "cell_type": "code",
   "execution_count": 99,
   "metadata": {},
   "outputs": [],
   "source": [
    "def sigmoid(z):\n",
    "    return 1/(1+np.exp(-z))\n",
    "\n",
    "def classification_rate(actual, predicted):\n",
    "    return np.mean(actual==predicted)\n",
    "    \n",
    "def cross_entropy(actual, predicted):\n",
    "    return -np.mean((actual)*np.log(predicted)+\n",
    "                    (1-actual)*np.log(1-predicted))\n",
    " \n",
    "def gradient_descent(Xtrain, Ytrain, learning_rate):\n",
    "    train = []\n",
    "    weights = np.random.randn(Xtrain.shape[1])\n",
    "    \n",
    "    for x in range(10000):\n",
    "        predictions = sigmoid(Xtrain.dot(weights))\n",
    "        if x%100 == 0:\n",
    "            cost = cross_entropy(Ytrain, predictions)\n",
    "            costs.append(cost)\n",
    "        \n",
    "        partial_diff = Xtrain.T.dot(predictions-Ytrain)/Xtrain.shape[0]\n",
    "        \n",
    "        for index in range(len(weights)):\n",
    "            weights[index] = weights[index] - learning_rate*(partial_diff[index])\n",
    "    \n",
    "    x_axis = np.linspace(0,10000, 100)\n",
    "    y_axis = costs\n",
    "    plt.plot(x_axis, y_axis)\n",
    "    return weights\n",
    "\n",
    "def fit(Xtrain, Ytrain, learning_rate=0.01):\n",
    "    costs = []\n",
    "    Xtrain[\"ones\"] = np.ones(Xtrain.shape[0])\n",
    "    weights = gradient_descent(Xtrain, Ytrain, learning_rate)\n",
    "    \n",
    "    return weights"
   ]
  },
  {
   "cell_type": "code",
   "execution_count": 101,
   "metadata": {},
   "outputs": [
    {
     "name": "stderr",
     "output_type": "stream",
     "text": [
      "/anaconda3/lib/python3.7/site-packages/ipykernel_launcher.py:33: SettingWithCopyWarning: \n",
      "A value is trying to be set on a copy of a slice from a DataFrame.\n",
      "Try using .loc[row_indexer,col_indexer] = value instead\n",
      "\n",
      "See the caveats in the documentation: http://pandas.pydata.org/pandas-docs/stable/indexing.html#indexing-view-versus-copy\n"
     ]
    },
    {
     "name": "stdout",
     "output_type": "stream",
     "text": [
      "0.95\n"
     ]
    },
    {
     "name": "stderr",
     "output_type": "stream",
     "text": [
      "/anaconda3/lib/python3.7/site-packages/ipykernel_launcher.py:2: SettingWithCopyWarning: \n",
      "A value is trying to be set on a copy of a slice from a DataFrame.\n",
      "Try using .loc[row_indexer,col_indexer] = value instead\n",
      "\n",
      "See the caveats in the documentation: http://pandas.pydata.org/pandas-docs/stable/indexing.html#indexing-view-versus-copy\n",
      "  \n"
     ]
    },
    {
     "data": {
      "image/png": "[encoded data removed]",
      "text/plain": [
       "<Figure size 432x288 with 1 Axes>"
      ]
     },
     "metadata": {
      "needs_background": "light"
     },
     "output_type": "display_data"
    }
   ],
   "source": [
    "weights = fit(Xtrain, Ytrain)\n",
    "Xtest[\"ones\"] = np.ones(Xtest.shape[0])\n",
    "predictions = Xtest.dot(weights)\n",
    "predictions = np.round(sigmoid(predictions))\n",
    "\n",
    "print(classification_rate(Ytest, predictions))"
   ]
  },
  {
   "cell_type": "code",
   "execution_count": 105,
   "metadata": {},
   "outputs": [
    {
     "data": {
      "text/plain": [
       "[<matplotlib.lines.Line2D at 0x1a21bbe940>]"
      ]
     },
     "execution_count": 105,
     "metadata": {},
     "output_type": "execute_result"
    },
    {
     "data": {
      "image/png": "[encoded data removed]",
      "text/plain": [
       "<Figure size 432x288 with 1 Axes>"
      ]
     },
     "metadata": {
      "needs_background": "light"
     },
     "output_type": "display_data"
    }
   ],
   "source": [
    "X_axis = Xtest[Xtest.columns[0]]\n",
    "Y_axis = Ytest\n",
    "\n",
    "plt.scatter(X_axis, Y_axis)\n",
    "\n",
    "Y_line = weights[0]*X_axis + weights[-1]\n",
    "plt.plot(X_axis, Y_line)"
   ]
  },
  {
   "cell_type": "code",
   "execution_count": null,
   "metadata": {},
   "outputs": [],
   "source": []
  }
 ],
 "metadata": {
  "kernelspec": {
   "display_name": "Python 3",
   "language": "python",
   "name": "python3"
  },
  "language_info": {
   "codemirror_mode": {
    "name": "ipython",
    "version": 3
   },
   "file_extension": ".py",
   "mimetype": "text/x-python",
   "name": "python",
   "nbconvert_exporter": "python",
   "pygments_lexer": "ipython3",
   "version": "3.7.3"
  }
 },
 "nbformat": 4,
 "nbformat_minor": 2
}
